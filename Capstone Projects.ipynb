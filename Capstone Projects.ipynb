{
 "cells": [
  {
   "cell_type": "code",
   "execution_count": 21,
   "metadata": {},
   "outputs": [],
   "source": [
    "def find_pi(digit):\n",
    "    import math\n",
    "   \n",
    "    '''\n",
    "    (int)->float\n",
    "    \n",
    "  Generate π (pi) up to that many decimal places as specified in an argument.\n",
    "    \n",
    "    '''\n",
    "    if digit > 15:\n",
    "        print(\"You can only print pi up to 15 decimal places\")\n",
    "    elif digit <0:\n",
    "        print(\"You cant round to negative places\")\n",
    "    else:   \n",
    "        return round(math.pi,digit)\n",
    "    \n",
    "    "
   ]
  },
  {
   "cell_type": "code",
   "execution_count": 41,
   "metadata": {
    "scrolled": true
   },
   "outputs": [],
   "source": [
    "def decimal_to_binary(number):\n",
    "    '''\n",
    "    \n",
    "    (int)->number\n",
    "    \n",
    "    Converts a decimal number to binary\n",
    "    \n",
    "    '''\n",
    "    \n",
    "    zero_ones=[]\n",
    "    \n",
    "    while (not number == 0):\n",
    "        zero_ones.append(number%2)\n",
    "        number = number//2\n",
    "    zero_ones=zero_ones[::-1]\n",
    "    print(\"\".join(map(str,zero_ones)))\n",
    "    \n",
    "    \n",
    "    "
   ]
  },
  {
   "cell_type": "code",
   "execution_count": 42,
   "metadata": {},
   "outputs": [
    {
     "name": "stdout",
     "output_type": "stream",
     "text": [
      "10101110\n"
     ]
    }
   ],
   "source": [
    "decimal_to_binary(174)"
   ]
  },
  {
   "cell_type": "code",
   "execution_count": 48,
   "metadata": {},
   "outputs": [],
   "source": [
    "def collatz(number):\n",
    "    '''\n",
    "    \n",
    "    (number)->int\n",
    "    \n",
    "    Finds the number of steps it takes to reach 1 using the following process If n is even, divide it by 2. If n is odd, multiply it by 3 and add 1.\n",
    "   \n",
    "    '''\n",
    "    counter = 0\n",
    "    \n",
    "    while number>1:\n",
    "        \n",
    "        if number%2==0:\n",
    "            number = number/2\n",
    "            counter = counter +1\n",
    "       \n",
    "        elif number%2!=0:\n",
    "            number = number*3 + 1\n",
    "            counter = counter +1\n",
    "    \n",
    "    return counter"
   ]
  },
  {
   "cell_type": "code",
   "execution_count": 75,
   "metadata": {},
   "outputs": [
    {
     "data": {
      "text/plain": [
       "177"
      ]
     },
     "execution_count": 75,
     "metadata": {},
     "output_type": "execute_result"
    }
   ],
   "source": [
    "collatz(678854345)"
   ]
  },
  {
   "cell_type": "code",
   "execution_count": 67,
   "metadata": {},
   "outputs": [],
   "source": [
    "def sieve_of_eratosthenes(number):\n",
    "    '''\n",
    "    \n",
    "    (int)-> list\n",
    "    \n",
    "    Finds all the primes that appear before given number (uses Sieve of Eratothenes Algorithm)\n",
    "    \n",
    "    '''\n",
    "    list_of_numbers = []\n",
    "    \n",
    "    for num in range(2,number+1):\n",
    "        list_of_numbers.append(num)\n",
    "    \n",
    "    index = 0\n",
    "    \n",
    "    while list_of_numbers[index] != list_of_numbers[-1]:\n",
    "        \n",
    "        for num in list_of_numbers:\n",
    "            \n",
    "            if num!=list_of_numbers[index] and num % list_of_numbers[index]==0:\n",
    "                list_of_numbers.remove(num)\n",
    "            \n",
    "            if num == list_of_numbers[-1]:\n",
    "                index = index + 1\n",
    "    \n",
    "    return list_of_numbers"
   ]
  },
  {
   "cell_type": "code",
   "execution_count": 24,
   "metadata": {},
   "outputs": [
    {
     "data": {
      "text/plain": [
       "[2, 3, 5, 7]"
      ]
     },
     "execution_count": 24,
     "metadata": {},
     "output_type": "execute_result"
    }
   ],
   "source": [
    "sieve_of_eratosthenes(10)"
   ]
  },
  {
   "cell_type": "code",
   "execution_count": null,
   "metadata": {},
   "outputs": [],
   "source": []
  }
 ],
 "metadata": {
  "kernelspec": {
   "display_name": "Python 3",
   "language": "python",
   "name": "python3"
  },
  "language_info": {
   "codemirror_mode": {
    "name": "ipython",
    "version": 3
   },
   "file_extension": ".py",
   "mimetype": "text/x-python",
   "name": "python",
   "nbconvert_exporter": "python",
   "pygments_lexer": "ipython3",
   "version": "3.7.0"
  }
 },
 "nbformat": 4,
 "nbformat_minor": 2
}
